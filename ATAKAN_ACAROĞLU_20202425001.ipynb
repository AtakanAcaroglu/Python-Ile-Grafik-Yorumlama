{
  "nbformat": 4,
  "nbformat_minor": 0,
  "metadata": {
    "colab": {
      "name": "ATAKAN-ACAROĞLU-20202425001.ipynb",
      "provenance": [],
      "collapsed_sections": []
    },
    "kernelspec": {
      "name": "python3",
      "display_name": "Python 3"
    },
    "language_info": {
      "name": "python"
    }
  },
  "cells": [
    {
      "cell_type": "code",
      "execution_count": null,
      "metadata": {
        "id": "lykGstBmH8X3"
      },
      "outputs": [],
      "source": [
        "import seaborn as sns\n",
        "import pandas as pd"
      ]
    },
    {
      "cell_type": "code",
      "source": [
        "df1 = sns.load_dataset(\"taxis\")\n",
        "df1\n",
        "# Bu sunumumda yorumlamak istediğim veri seti , 2019 un mart ayında New York eyaletinde olan taksi faaliyetlerinin verileridir. Burada birbirinden farklı 14 adet kolon görebiliriz. "
      ],
      "metadata": {
        "colab": {
          "base_uri": "https://localhost:8080/",
          "height": 424
        },
        "id": "F-OVD_sRH8wM",
        "outputId": "961bc1e9-714a-41e4-b5cd-c0c40dc8a6b4"
      },
      "execution_count": null,
      "outputs": [
        {
          "output_type": "execute_result",
          "data": {
            "text/plain": [
              "                   pickup              dropoff  passengers  distance  fare  \\\n",
              "0     2019-03-23 20:21:09  2019-03-23 20:27:24           1      1.60   7.0   \n",
              "1     2019-03-04 16:11:55  2019-03-04 16:19:00           1      0.79   5.0   \n",
              "2     2019-03-27 17:53:01  2019-03-27 18:00:25           1      1.37   7.5   \n",
              "3     2019-03-10 01:23:59  2019-03-10 01:49:51           1      7.70  27.0   \n",
              "4     2019-03-30 13:27:42  2019-03-30 13:37:14           3      2.16   9.0   \n",
              "...                   ...                  ...         ...       ...   ...   \n",
              "6428  2019-03-31 09:51:53  2019-03-31 09:55:27           1      0.75   4.5   \n",
              "6429  2019-03-31 17:38:00  2019-03-31 18:34:23           1     18.74  58.0   \n",
              "6430  2019-03-23 22:55:18  2019-03-23 23:14:25           1      4.14  16.0   \n",
              "6431  2019-03-04 10:09:25  2019-03-04 10:14:29           1      1.12   6.0   \n",
              "6432  2019-03-13 19:31:22  2019-03-13 19:48:02           1      3.85  15.0   \n",
              "\n",
              "       tip  tolls  total   color      payment            pickup_zone  \\\n",
              "0     2.15    0.0  12.95  yellow  credit card        Lenox Hill West   \n",
              "1     0.00    0.0   9.30  yellow         cash  Upper West Side South   \n",
              "2     2.36    0.0  14.16  yellow  credit card          Alphabet City   \n",
              "3     6.15    0.0  36.95  yellow  credit card              Hudson Sq   \n",
              "4     1.10    0.0  13.40  yellow  credit card           Midtown East   \n",
              "...    ...    ...    ...     ...          ...                    ...   \n",
              "6428  1.06    0.0   6.36   green  credit card      East Harlem North   \n",
              "6429  0.00    0.0  58.80   green  credit card                Jamaica   \n",
              "6430  0.00    0.0  17.30   green         cash    Crown Heights North   \n",
              "6431  0.00    0.0   6.80   green  credit card          East New York   \n",
              "6432  3.36    0.0  20.16   green  credit card            Boerum Hill   \n",
              "\n",
              "                          dropoff_zone pickup_borough dropoff_borough  \n",
              "0                  UN/Turtle Bay South      Manhattan       Manhattan  \n",
              "1                Upper West Side South      Manhattan       Manhattan  \n",
              "2                         West Village      Manhattan       Manhattan  \n",
              "3                       Yorkville West      Manhattan       Manhattan  \n",
              "4                       Yorkville West      Manhattan       Manhattan  \n",
              "...                                ...            ...             ...  \n",
              "6428              Central Harlem North      Manhattan       Manhattan  \n",
              "6429  East Concourse/Concourse Village         Queens           Bronx  \n",
              "6430                    Bushwick North       Brooklyn        Brooklyn  \n",
              "6431      East Flatbush/Remsen Village       Brooklyn        Brooklyn  \n",
              "6432                   Windsor Terrace       Brooklyn        Brooklyn  \n",
              "\n",
              "[6433 rows x 14 columns]"
            ],
            "text/html": [
              "\n",
              "  <div id=\"df-e7168ab7-bf43-4c18-8290-dc64d827ae2d\">\n",
              "    <div class=\"colab-df-container\">\n",
              "      <div>\n",
              "<style scoped>\n",
              "    .dataframe tbody tr th:only-of-type {\n",
              "        vertical-align: middle;\n",
              "    }\n",
              "\n",
              "    .dataframe tbody tr th {\n",
              "        vertical-align: top;\n",
              "    }\n",
              "\n",
              "    .dataframe thead th {\n",
              "        text-align: right;\n",
              "    }\n",
              "</style>\n",
              "<table border=\"1\" class=\"dataframe\">\n",
              "  <thead>\n",
              "    <tr style=\"text-align: right;\">\n",
              "      <th></th>\n",
              "      <th>pickup</th>\n",
              "      <th>dropoff</th>\n",
              "      <th>passengers</th>\n",
              "      <th>distance</th>\n",
              "      <th>fare</th>\n",
              "      <th>tip</th>\n",
              "      <th>tolls</th>\n",
              "      <th>total</th>\n",
              "      <th>color</th>\n",
              "      <th>payment</th>\n",
              "      <th>pickup_zone</th>\n",
              "      <th>dropoff_zone</th>\n",
              "      <th>pickup_borough</th>\n",
              "      <th>dropoff_borough</th>\n",
              "    </tr>\n",
              "  </thead>\n",
              "  <tbody>\n",
              "    <tr>\n",
              "      <th>0</th>\n",
              "      <td>2019-03-23 20:21:09</td>\n",
              "      <td>2019-03-23 20:27:24</td>\n",
              "      <td>1</td>\n",
              "      <td>1.60</td>\n",
              "      <td>7.0</td>\n",
              "      <td>2.15</td>\n",
              "      <td>0.0</td>\n",
              "      <td>12.95</td>\n",
              "      <td>yellow</td>\n",
              "      <td>credit card</td>\n",
              "      <td>Lenox Hill West</td>\n",
              "      <td>UN/Turtle Bay South</td>\n",
              "      <td>Manhattan</td>\n",
              "      <td>Manhattan</td>\n",
              "    </tr>\n",
              "    <tr>\n",
              "      <th>1</th>\n",
              "      <td>2019-03-04 16:11:55</td>\n",
              "      <td>2019-03-04 16:19:00</td>\n",
              "      <td>1</td>\n",
              "      <td>0.79</td>\n",
              "      <td>5.0</td>\n",
              "      <td>0.00</td>\n",
              "      <td>0.0</td>\n",
              "      <td>9.30</td>\n",
              "      <td>yellow</td>\n",
              "      <td>cash</td>\n",
              "      <td>Upper West Side South</td>\n",
              "      <td>Upper West Side South</td>\n",
              "      <td>Manhattan</td>\n",
              "      <td>Manhattan</td>\n",
              "    </tr>\n",
              "    <tr>\n",
              "      <th>2</th>\n",
              "      <td>2019-03-27 17:53:01</td>\n",
              "      <td>2019-03-27 18:00:25</td>\n",
              "      <td>1</td>\n",
              "      <td>1.37</td>\n",
              "      <td>7.5</td>\n",
              "      <td>2.36</td>\n",
              "      <td>0.0</td>\n",
              "      <td>14.16</td>\n",
              "      <td>yellow</td>\n",
              "      <td>credit card</td>\n",
              "      <td>Alphabet City</td>\n",
              "      <td>West Village</td>\n",
              "      <td>Manhattan</td>\n",
              "      <td>Manhattan</td>\n",
              "    </tr>\n",
              "    <tr>\n",
              "      <th>3</th>\n",
              "      <td>2019-03-10 01:23:59</td>\n",
              "      <td>2019-03-10 01:49:51</td>\n",
              "      <td>1</td>\n",
              "      <td>7.70</td>\n",
              "      <td>27.0</td>\n",
              "      <td>6.15</td>\n",
              "      <td>0.0</td>\n",
              "      <td>36.95</td>\n",
              "      <td>yellow</td>\n",
              "      <td>credit card</td>\n",
              "      <td>Hudson Sq</td>\n",
              "      <td>Yorkville West</td>\n",
              "      <td>Manhattan</td>\n",
              "      <td>Manhattan</td>\n",
              "    </tr>\n",
              "    <tr>\n",
              "      <th>4</th>\n",
              "      <td>2019-03-30 13:27:42</td>\n",
              "      <td>2019-03-30 13:37:14</td>\n",
              "      <td>3</td>\n",
              "      <td>2.16</td>\n",
              "      <td>9.0</td>\n",
              "      <td>1.10</td>\n",
              "      <td>0.0</td>\n",
              "      <td>13.40</td>\n",
              "      <td>yellow</td>\n",
              "      <td>credit card</td>\n",
              "      <td>Midtown East</td>\n",
              "      <td>Yorkville West</td>\n",
              "      <td>Manhattan</td>\n",
              "      <td>Manhattan</td>\n",
              "    </tr>\n",
              "    <tr>\n",
              "      <th>...</th>\n",
              "      <td>...</td>\n",
              "      <td>...</td>\n",
              "      <td>...</td>\n",
              "      <td>...</td>\n",
              "      <td>...</td>\n",
              "      <td>...</td>\n",
              "      <td>...</td>\n",
              "      <td>...</td>\n",
              "      <td>...</td>\n",
              "      <td>...</td>\n",
              "      <td>...</td>\n",
              "      <td>...</td>\n",
              "      <td>...</td>\n",
              "      <td>...</td>\n",
              "    </tr>\n",
              "    <tr>\n",
              "      <th>6428</th>\n",
              "      <td>2019-03-31 09:51:53</td>\n",
              "      <td>2019-03-31 09:55:27</td>\n",
              "      <td>1</td>\n",
              "      <td>0.75</td>\n",
              "      <td>4.5</td>\n",
              "      <td>1.06</td>\n",
              "      <td>0.0</td>\n",
              "      <td>6.36</td>\n",
              "      <td>green</td>\n",
              "      <td>credit card</td>\n",
              "      <td>East Harlem North</td>\n",
              "      <td>Central Harlem North</td>\n",
              "      <td>Manhattan</td>\n",
              "      <td>Manhattan</td>\n",
              "    </tr>\n",
              "    <tr>\n",
              "      <th>6429</th>\n",
              "      <td>2019-03-31 17:38:00</td>\n",
              "      <td>2019-03-31 18:34:23</td>\n",
              "      <td>1</td>\n",
              "      <td>18.74</td>\n",
              "      <td>58.0</td>\n",
              "      <td>0.00</td>\n",
              "      <td>0.0</td>\n",
              "      <td>58.80</td>\n",
              "      <td>green</td>\n",
              "      <td>credit card</td>\n",
              "      <td>Jamaica</td>\n",
              "      <td>East Concourse/Concourse Village</td>\n",
              "      <td>Queens</td>\n",
              "      <td>Bronx</td>\n",
              "    </tr>\n",
              "    <tr>\n",
              "      <th>6430</th>\n",
              "      <td>2019-03-23 22:55:18</td>\n",
              "      <td>2019-03-23 23:14:25</td>\n",
              "      <td>1</td>\n",
              "      <td>4.14</td>\n",
              "      <td>16.0</td>\n",
              "      <td>0.00</td>\n",
              "      <td>0.0</td>\n",
              "      <td>17.30</td>\n",
              "      <td>green</td>\n",
              "      <td>cash</td>\n",
              "      <td>Crown Heights North</td>\n",
              "      <td>Bushwick North</td>\n",
              "      <td>Brooklyn</td>\n",
              "      <td>Brooklyn</td>\n",
              "    </tr>\n",
              "    <tr>\n",
              "      <th>6431</th>\n",
              "      <td>2019-03-04 10:09:25</td>\n",
              "      <td>2019-03-04 10:14:29</td>\n",
              "      <td>1</td>\n",
              "      <td>1.12</td>\n",
              "      <td>6.0</td>\n",
              "      <td>0.00</td>\n",
              "      <td>0.0</td>\n",
              "      <td>6.80</td>\n",
              "      <td>green</td>\n",
              "      <td>credit card</td>\n",
              "      <td>East New York</td>\n",
              "      <td>East Flatbush/Remsen Village</td>\n",
              "      <td>Brooklyn</td>\n",
              "      <td>Brooklyn</td>\n",
              "    </tr>\n",
              "    <tr>\n",
              "      <th>6432</th>\n",
              "      <td>2019-03-13 19:31:22</td>\n",
              "      <td>2019-03-13 19:48:02</td>\n",
              "      <td>1</td>\n",
              "      <td>3.85</td>\n",
              "      <td>15.0</td>\n",
              "      <td>3.36</td>\n",
              "      <td>0.0</td>\n",
              "      <td>20.16</td>\n",
              "      <td>green</td>\n",
              "      <td>credit card</td>\n",
              "      <td>Boerum Hill</td>\n",
              "      <td>Windsor Terrace</td>\n",
              "      <td>Brooklyn</td>\n",
              "      <td>Brooklyn</td>\n",
              "    </tr>\n",
              "  </tbody>\n",
              "</table>\n",
              "<p>6433 rows × 14 columns</p>\n",
              "</div>\n",
              "      <button class=\"colab-df-convert\" onclick=\"convertToInteractive('df-e7168ab7-bf43-4c18-8290-dc64d827ae2d')\"\n",
              "              title=\"Convert this dataframe to an interactive table.\"\n",
              "              style=\"display:none;\">\n",
              "        \n",
              "  <svg xmlns=\"http://www.w3.org/2000/svg\" height=\"24px\"viewBox=\"0 0 24 24\"\n",
              "       width=\"24px\">\n",
              "    <path d=\"M0 0h24v24H0V0z\" fill=\"none\"/>\n",
              "    <path d=\"M18.56 5.44l.94 2.06.94-2.06 2.06-.94-2.06-.94-.94-2.06-.94 2.06-2.06.94zm-11 1L8.5 8.5l.94-2.06 2.06-.94-2.06-.94L8.5 2.5l-.94 2.06-2.06.94zm10 10l.94 2.06.94-2.06 2.06-.94-2.06-.94-.94-2.06-.94 2.06-2.06.94z\"/><path d=\"M17.41 7.96l-1.37-1.37c-.4-.4-.92-.59-1.43-.59-.52 0-1.04.2-1.43.59L10.3 9.45l-7.72 7.72c-.78.78-.78 2.05 0 2.83L4 21.41c.39.39.9.59 1.41.59.51 0 1.02-.2 1.41-.59l7.78-7.78 2.81-2.81c.8-.78.8-2.07 0-2.86zM5.41 20L4 18.59l7.72-7.72 1.47 1.35L5.41 20z\"/>\n",
              "  </svg>\n",
              "      </button>\n",
              "      \n",
              "  <style>\n",
              "    .colab-df-container {\n",
              "      display:flex;\n",
              "      flex-wrap:wrap;\n",
              "      gap: 12px;\n",
              "    }\n",
              "\n",
              "    .colab-df-convert {\n",
              "      background-color: #E8F0FE;\n",
              "      border: none;\n",
              "      border-radius: 50%;\n",
              "      cursor: pointer;\n",
              "      display: none;\n",
              "      fill: #1967D2;\n",
              "      height: 32px;\n",
              "      padding: 0 0 0 0;\n",
              "      width: 32px;\n",
              "    }\n",
              "\n",
              "    .colab-df-convert:hover {\n",
              "      background-color: #E2EBFA;\n",
              "      box-shadow: 0px 1px 2px rgba(60, 64, 67, 0.3), 0px 1px 3px 1px rgba(60, 64, 67, 0.15);\n",
              "      fill: #174EA6;\n",
              "    }\n",
              "\n",
              "    [theme=dark] .colab-df-convert {\n",
              "      background-color: #3B4455;\n",
              "      fill: #D2E3FC;\n",
              "    }\n",
              "\n",
              "    [theme=dark] .colab-df-convert:hover {\n",
              "      background-color: #434B5C;\n",
              "      box-shadow: 0px 1px 3px 1px rgba(0, 0, 0, 0.15);\n",
              "      filter: drop-shadow(0px 1px 2px rgba(0, 0, 0, 0.3));\n",
              "      fill: #FFFFFF;\n",
              "    }\n",
              "  </style>\n",
              "\n",
              "      <script>\n",
              "        const buttonEl =\n",
              "          document.querySelector('#df-e7168ab7-bf43-4c18-8290-dc64d827ae2d button.colab-df-convert');\n",
              "        buttonEl.style.display =\n",
              "          google.colab.kernel.accessAllowed ? 'block' : 'none';\n",
              "\n",
              "        async function convertToInteractive(key) {\n",
              "          const element = document.querySelector('#df-e7168ab7-bf43-4c18-8290-dc64d827ae2d');\n",
              "          const dataTable =\n",
              "            await google.colab.kernel.invokeFunction('convertToInteractive',\n",
              "                                                     [key], {});\n",
              "          if (!dataTable) return;\n",
              "\n",
              "          const docLinkHtml = 'Like what you see? Visit the ' +\n",
              "            '<a target=\"_blank\" href=https://colab.research.google.com/notebooks/data_table.ipynb>data table notebook</a>'\n",
              "            + ' to learn more about interactive tables.';\n",
              "          element.innerHTML = '';\n",
              "          dataTable['output_type'] = 'display_data';\n",
              "          await google.colab.output.renderOutput(dataTable, element);\n",
              "          const docLink = document.createElement('div');\n",
              "          docLink.innerHTML = docLinkHtml;\n",
              "          element.appendChild(docLink);\n",
              "        }\n",
              "      </script>\n",
              "    </div>\n",
              "  </div>\n",
              "  "
            ]
          },
          "metadata": {},
          "execution_count": 3
        }
      ]
    },
    {
      "cell_type": "markdown",
      "source": [
        "Pickup  - Müşterinin alındığı tarih-saat bilgisi\n",
        "\n",
        "Dropoff - Müşterinin bırakıldığı tarih-saat bilgisi\n",
        "\n",
        "Passengers- Taksiye kaç kişi binildiğinin bilgisi\n",
        "\n",
        "Distance - Müşterinin gittiği mesafe\n",
        "\n",
        "Fare - Taksi ücreti\n",
        "\n",
        "Tip - Bahşiş\n",
        "\n",
        "Tolls - Geçişli yol ücreti\n",
        "\n",
        "Total - Toplam ücret\n",
        "\n",
        "Color - Taksinin rengi\n",
        "\n",
        "Payment- Ödeme biçimi\n",
        "\n",
        "Pickup_Zone- Müşterinin alındığı bölge\n",
        "\n",
        "Dropoff_Zone- Müşterinin bırakıldığı bölge\n",
        "\n",
        "Pickup_borough - Müşterinin alındığı ilçe\n",
        "\n",
        "Dropoff_borough - Müşterinin bırakıldığı ilçe\n"
      ],
      "metadata": {
        "id": "J-ZDKtU2apLH"
      }
    },
    {
      "cell_type": "code",
      "source": [
        "df1.info() # Verilerin orjinal halleri"
      ],
      "metadata": {
        "colab": {
          "base_uri": "https://localhost:8080/"
        },
        "id": "YvB4KYBG0cW6",
        "outputId": "17eb4710-d7b8-45a6-d69a-f3f667f6e861"
      },
      "execution_count": null,
      "outputs": [
        {
          "output_type": "stream",
          "name": "stdout",
          "text": [
            "<class 'pandas.core.frame.DataFrame'>\n",
            "RangeIndex: 6433 entries, 0 to 6432\n",
            "Data columns (total 14 columns):\n",
            " #   Column           Non-Null Count  Dtype  \n",
            "---  ------           --------------  -----  \n",
            " 0   pickup           6433 non-null   object \n",
            " 1   dropoff          6433 non-null   object \n",
            " 2   passengers       6433 non-null   int64  \n",
            " 3   distance         6433 non-null   float64\n",
            " 4   fare             6433 non-null   float64\n",
            " 5   tip              6433 non-null   float64\n",
            " 6   tolls            6433 non-null   float64\n",
            " 7   total            6433 non-null   float64\n",
            " 8   color            6433 non-null   object \n",
            " 9   payment          6389 non-null   object \n",
            " 10  pickup_zone      6407 non-null   object \n",
            " 11  dropoff_zone     6388 non-null   object \n",
            " 12  pickup_borough   6407 non-null   object \n",
            " 13  dropoff_borough  6388 non-null   object \n",
            "dtypes: float64(5), int64(1), object(8)\n",
            "memory usage: 703.7+ KB\n"
          ]
        }
      ]
    },
    {
      "cell_type": "code",
      "source": [
        "df1.pickup   = pd.Categorical(df1.pickup) # Verileri kategorik veri haline getirme\n",
        "df1.dropoff  = pd.Categorical(df1.dropoff)\n",
        "df1.color    = pd.Categorical(df1.color)\n",
        "df1.payment        = pd.Categorical(df1.payment)\n",
        "df1.pickup_zone    = pd.Categorical(df1.pickup_zone)\n",
        "df1.dropoff_zone   = pd.Categorical(df1.dropoff_zone)\n",
        "df1.pickup_borough = pd.Categorical(df1.pickup_borough)\n",
        "df1.dropoff_borough= pd.Categorical(df1.dropoff_borough)"
      ],
      "metadata": {
        "id": "pyQci5yp0TJ8"
      },
      "execution_count": null,
      "outputs": []
    },
    {
      "cell_type": "code",
      "source": [
        "df1.info() # Verilerin dönüştürülmüş hali"
      ],
      "metadata": {
        "colab": {
          "base_uri": "https://localhost:8080/"
        },
        "id": "kI00RKyB0X1E",
        "outputId": "eadfee6c-aafe-471b-8df7-45eb9f8d96e3"
      },
      "execution_count": null,
      "outputs": [
        {
          "output_type": "stream",
          "name": "stdout",
          "text": [
            "<class 'pandas.core.frame.DataFrame'>\n",
            "RangeIndex: 6433 entries, 0 to 6432\n",
            "Data columns (total 14 columns):\n",
            " #   Column           Non-Null Count  Dtype   \n",
            "---  ------           --------------  -----   \n",
            " 0   pickup           6433 non-null   category\n",
            " 1   dropoff          6433 non-null   category\n",
            " 2   passengers       6433 non-null   int64   \n",
            " 3   distance         6433 non-null   float64 \n",
            " 4   fare             6433 non-null   float64 \n",
            " 5   tip              6433 non-null   float64 \n",
            " 6   tolls            6433 non-null   float64 \n",
            " 7   total            6433 non-null   float64 \n",
            " 8   color            6433 non-null   category\n",
            " 9   payment          6389 non-null   category\n",
            " 10  pickup_zone      6407 non-null   category\n",
            " 11  dropoff_zone     6388 non-null   category\n",
            " 12  pickup_borough   6407 non-null   category\n",
            " 13  dropoff_borough  6388 non-null   category\n",
            "dtypes: category(8), float64(5), int64(1)\n",
            "memory usage: 1009.4 KB\n"
          ]
        }
      ]
    },
    {
      "cell_type": "code",
      "source": [
        "df1.isnull().sum() # Veri setimin her bir değişkeninde kaç adet boşluk olduğu"
      ],
      "metadata": {
        "colab": {
          "base_uri": "https://localhost:8080/"
        },
        "id": "M-d5kbmH3Eoc",
        "outputId": "358675ed-f496-4810-83d9-b368073208f0"
      },
      "execution_count": null,
      "outputs": [
        {
          "output_type": "execute_result",
          "data": {
            "text/plain": [
              "pickup              0\n",
              "dropoff             0\n",
              "passengers          0\n",
              "distance            0\n",
              "fare                0\n",
              "tip                 0\n",
              "tolls               0\n",
              "total               0\n",
              "color               0\n",
              "payment            44\n",
              "pickup_zone        26\n",
              "dropoff_zone       45\n",
              "pickup_borough     26\n",
              "dropoff_borough    45\n",
              "dtype: int64"
            ]
          },
          "metadata": {},
          "execution_count": 4
        }
      ]
    },
    {
      "cell_type": "code",
      "source": [
        "df1.describe().T # Verisetimin ortalaması, minimum ve maksimum değerleri"
      ],
      "metadata": {
        "colab": {
          "base_uri": "https://localhost:8080/",
          "height": 238
        },
        "id": "g4NjkB360cUf",
        "outputId": "19b1ce99-1610-4be3-b2b2-006c646fb472"
      },
      "execution_count": null,
      "outputs": [
        {
          "output_type": "execute_result",
          "data": {
            "text/plain": [
              "             count       mean        std  min    25%    50%    75%     max\n",
              "passengers  6433.0   1.539251   1.203768  0.0   1.00   1.00   2.00    6.00\n",
              "distance    6433.0   3.024617   3.827867  0.0   0.98   1.64   3.21   36.70\n",
              "fare        6433.0  13.091073  11.551804  1.0   6.50   9.50  15.00  150.00\n",
              "tip         6433.0   1.979220   2.448560  0.0   0.00   1.70   2.80   33.20\n",
              "tolls       6433.0   0.325273   1.415267  0.0   0.00   0.00   0.00   24.02\n",
              "total       6433.0  18.517794  13.815570  1.3  10.80  14.16  20.30  174.82"
            ],
            "text/html": [
              "\n",
              "  <div id=\"df-202f1a89-f3e2-4beb-8896-cf6eb62b190a\">\n",
              "    <div class=\"colab-df-container\">\n",
              "      <div>\n",
              "<style scoped>\n",
              "    .dataframe tbody tr th:only-of-type {\n",
              "        vertical-align: middle;\n",
              "    }\n",
              "\n",
              "    .dataframe tbody tr th {\n",
              "        vertical-align: top;\n",
              "    }\n",
              "\n",
              "    .dataframe thead th {\n",
              "        text-align: right;\n",
              "    }\n",
              "</style>\n",
              "<table border=\"1\" class=\"dataframe\">\n",
              "  <thead>\n",
              "    <tr style=\"text-align: right;\">\n",
              "      <th></th>\n",
              "      <th>count</th>\n",
              "      <th>mean</th>\n",
              "      <th>std</th>\n",
              "      <th>min</th>\n",
              "      <th>25%</th>\n",
              "      <th>50%</th>\n",
              "      <th>75%</th>\n",
              "      <th>max</th>\n",
              "    </tr>\n",
              "  </thead>\n",
              "  <tbody>\n",
              "    <tr>\n",
              "      <th>passengers</th>\n",
              "      <td>6433.0</td>\n",
              "      <td>1.539251</td>\n",
              "      <td>1.203768</td>\n",
              "      <td>0.0</td>\n",
              "      <td>1.00</td>\n",
              "      <td>1.00</td>\n",
              "      <td>2.00</td>\n",
              "      <td>6.00</td>\n",
              "    </tr>\n",
              "    <tr>\n",
              "      <th>distance</th>\n",
              "      <td>6433.0</td>\n",
              "      <td>3.024617</td>\n",
              "      <td>3.827867</td>\n",
              "      <td>0.0</td>\n",
              "      <td>0.98</td>\n",
              "      <td>1.64</td>\n",
              "      <td>3.21</td>\n",
              "      <td>36.70</td>\n",
              "    </tr>\n",
              "    <tr>\n",
              "      <th>fare</th>\n",
              "      <td>6433.0</td>\n",
              "      <td>13.091073</td>\n",
              "      <td>11.551804</td>\n",
              "      <td>1.0</td>\n",
              "      <td>6.50</td>\n",
              "      <td>9.50</td>\n",
              "      <td>15.00</td>\n",
              "      <td>150.00</td>\n",
              "    </tr>\n",
              "    <tr>\n",
              "      <th>tip</th>\n",
              "      <td>6433.0</td>\n",
              "      <td>1.979220</td>\n",
              "      <td>2.448560</td>\n",
              "      <td>0.0</td>\n",
              "      <td>0.00</td>\n",
              "      <td>1.70</td>\n",
              "      <td>2.80</td>\n",
              "      <td>33.20</td>\n",
              "    </tr>\n",
              "    <tr>\n",
              "      <th>tolls</th>\n",
              "      <td>6433.0</td>\n",
              "      <td>0.325273</td>\n",
              "      <td>1.415267</td>\n",
              "      <td>0.0</td>\n",
              "      <td>0.00</td>\n",
              "      <td>0.00</td>\n",
              "      <td>0.00</td>\n",
              "      <td>24.02</td>\n",
              "    </tr>\n",
              "    <tr>\n",
              "      <th>total</th>\n",
              "      <td>6433.0</td>\n",
              "      <td>18.517794</td>\n",
              "      <td>13.815570</td>\n",
              "      <td>1.3</td>\n",
              "      <td>10.80</td>\n",
              "      <td>14.16</td>\n",
              "      <td>20.30</td>\n",
              "      <td>174.82</td>\n",
              "    </tr>\n",
              "  </tbody>\n",
              "</table>\n",
              "</div>\n",
              "      <button class=\"colab-df-convert\" onclick=\"convertToInteractive('df-202f1a89-f3e2-4beb-8896-cf6eb62b190a')\"\n",
              "              title=\"Convert this dataframe to an interactive table.\"\n",
              "              style=\"display:none;\">\n",
              "        \n",
              "  <svg xmlns=\"http://www.w3.org/2000/svg\" height=\"24px\"viewBox=\"0 0 24 24\"\n",
              "       width=\"24px\">\n",
              "    <path d=\"M0 0h24v24H0V0z\" fill=\"none\"/>\n",
              "    <path d=\"M18.56 5.44l.94 2.06.94-2.06 2.06-.94-2.06-.94-.94-2.06-.94 2.06-2.06.94zm-11 1L8.5 8.5l.94-2.06 2.06-.94-2.06-.94L8.5 2.5l-.94 2.06-2.06.94zm10 10l.94 2.06.94-2.06 2.06-.94-2.06-.94-.94-2.06-.94 2.06-2.06.94z\"/><path d=\"M17.41 7.96l-1.37-1.37c-.4-.4-.92-.59-1.43-.59-.52 0-1.04.2-1.43.59L10.3 9.45l-7.72 7.72c-.78.78-.78 2.05 0 2.83L4 21.41c.39.39.9.59 1.41.59.51 0 1.02-.2 1.41-.59l7.78-7.78 2.81-2.81c.8-.78.8-2.07 0-2.86zM5.41 20L4 18.59l7.72-7.72 1.47 1.35L5.41 20z\"/>\n",
              "  </svg>\n",
              "      </button>\n",
              "      \n",
              "  <style>\n",
              "    .colab-df-container {\n",
              "      display:flex;\n",
              "      flex-wrap:wrap;\n",
              "      gap: 12px;\n",
              "    }\n",
              "\n",
              "    .colab-df-convert {\n",
              "      background-color: #E8F0FE;\n",
              "      border: none;\n",
              "      border-radius: 50%;\n",
              "      cursor: pointer;\n",
              "      display: none;\n",
              "      fill: #1967D2;\n",
              "      height: 32px;\n",
              "      padding: 0 0 0 0;\n",
              "      width: 32px;\n",
              "    }\n",
              "\n",
              "    .colab-df-convert:hover {\n",
              "      background-color: #E2EBFA;\n",
              "      box-shadow: 0px 1px 2px rgba(60, 64, 67, 0.3), 0px 1px 3px 1px rgba(60, 64, 67, 0.15);\n",
              "      fill: #174EA6;\n",
              "    }\n",
              "\n",
              "    [theme=dark] .colab-df-convert {\n",
              "      background-color: #3B4455;\n",
              "      fill: #D2E3FC;\n",
              "    }\n",
              "\n",
              "    [theme=dark] .colab-df-convert:hover {\n",
              "      background-color: #434B5C;\n",
              "      box-shadow: 0px 1px 3px 1px rgba(0, 0, 0, 0.15);\n",
              "      filter: drop-shadow(0px 1px 2px rgba(0, 0, 0, 0.3));\n",
              "      fill: #FFFFFF;\n",
              "    }\n",
              "  </style>\n",
              "\n",
              "      <script>\n",
              "        const buttonEl =\n",
              "          document.querySelector('#df-202f1a89-f3e2-4beb-8896-cf6eb62b190a button.colab-df-convert');\n",
              "        buttonEl.style.display =\n",
              "          google.colab.kernel.accessAllowed ? 'block' : 'none';\n",
              "\n",
              "        async function convertToInteractive(key) {\n",
              "          const element = document.querySelector('#df-202f1a89-f3e2-4beb-8896-cf6eb62b190a');\n",
              "          const dataTable =\n",
              "            await google.colab.kernel.invokeFunction('convertToInteractive',\n",
              "                                                     [key], {});\n",
              "          if (!dataTable) return;\n",
              "\n",
              "          const docLinkHtml = 'Like what you see? Visit the ' +\n",
              "            '<a target=\"_blank\" href=https://colab.research.google.com/notebooks/data_table.ipynb>data table notebook</a>'\n",
              "            + ' to learn more about interactive tables.';\n",
              "          element.innerHTML = '';\n",
              "          dataTable['output_type'] = 'display_data';\n",
              "          await google.colab.output.renderOutput(dataTable, element);\n",
              "          const docLink = document.createElement('div');\n",
              "          docLink.innerHTML = docLinkHtml;\n",
              "          element.appendChild(docLink);\n",
              "        }\n",
              "      </script>\n",
              "    </div>\n",
              "  </div>\n",
              "  "
            ]
          },
          "metadata": {},
          "execution_count": 5
        }
      ]
    },
    {
      "cell_type": "code",
      "source": [
        "sns.barplot(x=\"pickup_borough\", y= \"tip\", hue= \"payment\", data= df1);\n",
        "\n",
        "# İlk grafiğimle ilgili konuşmak gerekirse, müşterilerin alındığı bölgelerde, ödeme şekillerine göre bahşiş bırakma verilerini yorumlamak istedim.\n",
        "# Neredeyse herkesin bahşiş vermek için kredi kartını tercih ettiğini burada açık bir şekilde gözlemlemek mümkün.\n",
        "# Bunun sebebi müşterilerin kredi kartı ile ödeme yapmayı tercih etmeleri olabilir.\n",
        "\n",
        "# Nakit para ile ödeme seçeneğinde bahşiş oranını arttırmak için nakit para ile ödeme seçeneğinde bir takım indirimler düzenleyebiliriz. \n",
        "# Buna ek olarak, Bronx ilçesinde bahşiş oranının düşük olduğunu göz önünde bulundurursak, Bronx ilçesinde düzenli olarak çalışan şoförlere daha iyi bir direksiyon ve diksiyon eğitimi verebiliriz."
      ],
      "metadata": {
        "colab": {
          "base_uri": "https://localhost:8080/",
          "height": 280
        },
        "id": "DjVoXRSzS8Bj",
        "outputId": "92365b9a-f2a7-4ced-cf2c-6e3dd24cbdae"
      },
      "execution_count": null,
      "outputs": [
        {
          "output_type": "display_data",
          "data": {
            "text/plain": [
              "<Figure size 432x288 with 1 Axes>"
            ],
            "image/png": "[encoded data removed]"
          },
          "metadata": {
            "needs_background": "light"
          }
        }
      ]
    },
    {
      "cell_type": "code",
      "source": [
        "sns.boxplot(x=\"pickup_borough\", y= \"distance\", hue= \"color\", data= df1);\n",
        "\n",
        "# İkinci grafiğimde, müşterilerin alındığı bölgelerde, gidilen mesafenin taksi renklerine göre dağılımıyla ilgili olan verilerini yorumlamak isterim,\n",
        "# Genel olarak queens ilçesinden alınan müşterilerin uzun mesafelerde sarı renkli taksileri tercih ettiklerini görebiliriz,\n",
        "# Manhattanda ise taksilerin renklere göre dağılımında kullanımın neredeyse eşit aralıkta olduğunu ve manhattan ilçesinden yola çıkan müşterilerin genellikle kısa mesafe yolculuklar tercih ettiğini ve buna ek olarak\n",
        "# yolcuların manhattan içerisinde kaldığı ve şehir dışına çıkmadıkları için manhattanda yaşamaktan hoşlandıklarını düşünebiliriz,\n",
        "# Bunun haricinde uzun mesafe katedecek müşterilerin genellikle sarı taksileri kullandığını,kısa mesafelerde ise yeşil renkli taksi kullanımının yüksek olduğunu gözlemleyebiliriz,"
      ],
      "metadata": {
        "colab": {
          "base_uri": "https://localhost:8080/",
          "height": 280
        },
        "id": "SbCGcB3RThsH",
        "outputId": "47a3fa76-73d4-4990-8fc1-108fc850a588"
      },
      "execution_count": null,
      "outputs": [
        {
          "output_type": "display_data",
          "data": {
            "text/plain": [
              "<Figure size 432x288 with 1 Axes>"
            ],
            "image/png": "[encoded data removed]"
          },
          "metadata": {
            "needs_background": "light"
          }
        }
      ]
    },
    {
      "cell_type": "code",
      "source": [
        "sns.scatterplot(x=\"tip\",y=\"distance\",hue=\"color\",data=df1)\n",
        "\n",
        "# Üçüncü grafiğimde ise, müşterinin bıraktığı bahşiş miktarının, gittiği mesafeye oranının kullanılan taksi rengine göre dağılımıyla ilgili yorum yapmak isterim,\n",
        "# Genel olarak yeşil renkli taksilerde bahşiş miktarının minimum olduğunu hatta neredeyse olmadığını ve daha uzun mesafeler katettiklerini görebiliriz.\n",
        "# Sarı renkli taksilerde ise açıkçası durum biraz daha farklı, kimisi çok az yol alırken çok fazla bahşiş bırakmayı tercih ediyor, kimisi gittiği yol ile doğru orantılı bahşiş vermeyi tercih ediyor, kimisi de 35 kmden fazla \n",
        "# yol alıp hiç bahşiş bırakmamayı tercih ediyor. Bu yüzden Sarı renkli taksilerdeki bahşiş verileri için belirli bir aralık vermek çok zor olabilir. \n",
        "\n",
        "# Sarı renkli taksilerde genel olarak bahşiş oranımızın ortalama ve yüksek arasında olduğunu düşünürsek\n",
        "# Yeşil renkli taksilerde de verilen bahşiş miktarını bu oranlara yükseltmemiz gerektiği anlamına gelir. Bunun için kabiliyetli ve saygılı şoförleri yeşil renkli taksilere transfer edebiliriz"
      ],
      "metadata": {
        "colab": {
          "base_uri": "https://localhost:8080/",
          "height": 296
        },
        "id": "m1nrdA7BAjAg",
        "outputId": "099453c1-b909-4ac5-c04b-75d9d5a86caa"
      },
      "execution_count": null,
      "outputs": [
        {
          "output_type": "execute_result",
          "data": {
            "text/plain": [
              "<matplotlib.axes._subplots.AxesSubplot at 0x7fa88e0f8390>"
            ]
          },
          "metadata": {},
          "execution_count": 44
        },
        {
          "output_type": "display_data",
          "data": {
            "text/plain": [
              "<Figure size 432x288 with 1 Axes>"
            ],
            "image/png": "[encoded data removed]"
          },
          "metadata": {
            "needs_background": "light"
          }
        }
      ]
    },
    {
      "cell_type": "code",
      "source": [
        "sns.scatterplot(x=\"passengers\",y=\"distance\",hue=\"color\",data=df1) \n",
        "\n",
        "# Dördüncü grafiğimde, müşterilerin taksiyi kaç kişi kullandığının, gittikleri mesafeye oranının, kullanılan taksi rengine göre dağılımıyla ilgili fikirlerimi sunmak isterim,\n",
        "\n",
        "# taksiyi tek kişi kullanan müşterilerin ortalama  0-27 km arasındaki bütün mesafelerde yeşil taksileri tercih ettiğini görebiliriz.\n",
        "# Taksiyi 2 kişi kullanan müşteriler ise, kısa mesafelerde yeşil taksileri tercih ederken, uzun mesafelerde sarı taksileri tercih ettiklerini görebiliriz.\n",
        "# taksiyi 3 kişi veya daha kalabalık kullanan müşterilerin ise çoğu zaman sarı taksileri tercih ettiklerini söylemek mümkün.\n",
        "\n",
        "# Taksiye kalabalık binen grupların çoğu zaman sarı taksi kullanmalarının sebebi, sarı taksilerin daha geniş ve konforlu olmasından kaynaklanabilir, \n",
        "# eğer yeşil taksilerin içini genişletebilirsek ve konforu arttırabilirsek renklere göre kullanımı eşitleyip sarı taksilerdeki yoğunluğu azaltabiliriz\n",
        "\n",
        "# Bunun haricinde, sarı taksilere daha kalabalık binilmesinin sebebi daha konforlu olduğu için daha pahalı olması olabilir, taksi ücreti yolcular arasında ortak ödendiğinde daha uyguna geldiği için\n",
        "# daha kalabalık gruplarla biniliyor da olabilir\n",
        "\n",
        "# Son olarak grafiğimle ilgili yorumlamam gereken şey ise genel olarak uzun mesafe gidecek müşterilerin de sarı renkli taksileri tercih ettiğini görebiliriz,\n",
        "# bunun sebebi de yine aynı şekilde sarı taksilerin daha konforlu olmasından kaynaklanıyor olabilir."
      ],
      "metadata": {
        "colab": {
          "base_uri": "https://localhost:8080/",
          "height": 296
        },
        "id": "ExD35nRBlCkr",
        "outputId": "bc279e59-b464-4281-e7d7-ebe4e4b1c674"
      },
      "execution_count": null,
      "outputs": [
        {
          "output_type": "execute_result",
          "data": {
            "text/plain": [
              "<matplotlib.axes._subplots.AxesSubplot at 0x7fa8915378d0>"
            ]
          },
          "metadata": {},
          "execution_count": 6
        },
        {
          "output_type": "display_data",
          "data": {
            "text/plain": [
              "<Figure size 432x288 with 1 Axes>"
            ],
            "image/png": "[encoded data removed]"
          },
          "metadata": {
            "needs_background": "light"
          }
        }
      ]
    },
    {
      "cell_type": "code",
      "source": [
        "sns.barplot(x=df1.pickup_borough, y=\"distance\",hue=\"payment\", data = df1)\n",
        "\n",
        "# Beşinci grafiğimde, müşterilerin alındığı bölgelere göre katedilen mesafe oranının ödeme tiplerine göre dağılımını görmek mümkün.\n",
        "# manhattan ilçesinden binen müşterilerin genellikle kısa mesafe gittiklerini, nakit para ve kredi kartı kullanımının aşağı yukarı aynı olduğunu söyleyebiliriz.\n",
        "# Queens ilçesinden binen müşterilerin uzun mesafe katetmeleri gerektiğinde kredi kartı tercih ettiklerini ancak kısa mesafelerde nakit para tercih ettiklerini söyleyebiliriz.\n",
        "\n",
        "# Manhattan'dan alınan müşterilerin daha uzun mesafe katetmelerini sağlayabilmek adına, 4 km ve üzerinde indirim yapılabilir.\n",
        "# Bunun haricinde, genel olarak kısa mesafe gidişlerine nakit parayı tercih eden müşterilere %10 indirim yaparak daha fazla kişinin nakit para tercih etmesini sağlayabiliriz."
      ],
      "metadata": {
        "colab": {
          "base_uri": "https://localhost:8080/",
          "height": 297
        },
        "id": "-ixC_mk3qU2H",
        "outputId": "1e11bb1b-de90-441f-9810-d0fbba6a77d1"
      },
      "execution_count": null,
      "outputs": [
        {
          "output_type": "execute_result",
          "data": {
            "text/plain": [
              "<matplotlib.axes._subplots.AxesSubplot at 0x7fa890ddf7d0>"
            ]
          },
          "metadata": {},
          "execution_count": 10
        },
        {
          "output_type": "display_data",
          "data": {
            "text/plain": [
              "<Figure size 432x288 with 1 Axes>"
            ],
            "image/png": "[encoded data removed]"
          },
          "metadata": {
            "needs_background": "light"
          }
        }
      ]
    },
    {
      "cell_type": "code",
      "source": [
        "sns.scatterplot(x=\"pickup_borough\",y=\"dropoff_borough\",hue=\"fare\",data=df1)\n",
        "\n",
        "# Altıncı grafiğimdeki durumda size bahsetmek istediğim konu taksilerin hangi duraklar arasında çalıştığı ve şehiriçi - şehirdışı ücret tarifeleridir.\n",
        "\n",
        "# Bu grafikte genel olarak taksi hatlarının hangi şehirler arasında çalıştığını ve şehiriçi - şehirdışı ortalama ücret tarifelerini görebiliyoruz.\n",
        "# Bu grafikle ilgili konuşmak gerekirse, Amerikanın bir çok bölgesinde durak olduğunu ve ulaşım ihtiyacımızı rahatlıkla karşılayabildiğimizi görebiliriz \n",
        "# Manhattandan alınan bir müşterinin en az ücreti şehiriçi turunda ve bronx bölgesine giderken ödediğini bu grafikte görebiliriz bu verilere göre manhattan ile bronx arasında fazla bir mesafe olmadığı anlamına gelir.\n",
        "# Bunun haricinde en fazla taksi ücretinin tuttuğu ulaşım yerlerinden birisi ise brooklynden binip bronx da indiğiniz durumdur, bu iki bölge birbirine en uzak bölge olabilir. \n",
        "# Aynı şekilde Queensten binip bronx a gittiğiniz durumda da taksi ücretiniz ortalamadan fazla tutacaktır. Şu şartlar altında queens ve brooklyn bölgelerinin bronx a uzak olduğunu düşünebiliriz \n",
        "\n",
        "# Yani, bu durumda iki ihtimali ele almak doğru olur. \n",
        "\n",
        "# 1. ihtimalde ; queens ve brooklyn şehir dışında bir eyalet olabilir ve bronx ise şehiriçinde bir eyalet olma durumunu ele alabiliriz.\n",
        "# 2. ihtimalde ise ; queens ve brooklyn şehir içinde bir eyalet olabilir ve bronx şehir dışında bir eyalet olabilir. \n",
        "\n",
        "# Bunun haricinde, yorumlamak istediğim son nokta, staten island a gitmek isteyen bir yolcunun tek gitme ihtimalinin manhattan durağı olmasıdır. \n",
        "# Staten island ı tercih eden yolcu sayısı artarsa diğer şehirlerde bulunan duraklardaki taksilere de staten island a gidiş tarifesi eklenmelidir. yoksa manhattanda bir yığılma olacaktır."
      ],
      "metadata": {
        "colab": {
          "base_uri": "https://localhost:8080/",
          "height": 297
        },
        "id": "ZWjXKD6tXK59",
        "outputId": "ac32d5eb-2a16-4d56-b80f-644010dfdb4b"
      },
      "execution_count": null,
      "outputs": [
        {
          "output_type": "execute_result",
          "data": {
            "text/plain": [
              "<matplotlib.axes._subplots.AxesSubplot at 0x7fa8820b65d0>"
            ]
          },
          "metadata": {},
          "execution_count": 80
        },
        {
          "output_type": "display_data",
          "data": {
            "text/plain": [
              "<Figure size 432x288 with 1 Axes>"
            ],
            "image/png": "[encoded data removed]"
          },
          "metadata": {
            "needs_background": "light"
          }
        }
      ]
    },
    {
      "cell_type": "code",
      "source": [
        "sns.barplot(x=\"pickup_borough\",y=\"distance\",hue=\"dropoff_borough\",data=df1)\n",
        "\n",
        "# Yedinci grafiğimde ise az önce yorumladığım grafiğin daha iyi anlaşılabilmesi ve soru işaretlerini tamamen yokedebilmek adına farklı bir grafik türü  ve farklı değerler ile yorumlamak istedim\n",
        "# Şehirler arası mesafeyi bu sefer de bu grafikten yola çıkarak yorumlamak isterim.\n",
        "\n",
        "# Manhattan'ın şehrin göbeğinde bulunan, brooklyn ve bronx'un arasında kalan bir ilçe olduğunu söylemek doğru olabilir, staten island hariç kalan işlek 4 durak arasında heryere kısa mesafeler \n",
        "# ile buradan ulaşabilme imkanınız var ve şehiriçi mesafelerin çok kısa olmasından yola çıkarak şehrin küçük olduğunu da düşünebiliriz.\n",
        "\n",
        "# Staten island a gitmenin tek yolu manhattan olduğundan, staten island ın sadece manhattandan girişi olan bir köprü ile gidilen bir eyalet olduğunu ve şehirden ortalama 16-17 km ötede olduğunu düşünebiliriz.\n",
        "\n",
        "# Queens'in ise, manhattanın sol altında kalan, manhattana ve brooklyn e ortalama 13 km uzaklıkta bulunan, \n",
        "# bronx' a olan uzaklığı manhattan ve brooklynden fazla olduğundan dolayı biraz şehrin dışında kalan bir ilçe olduğunu düşünebiliriz.\n",
        "\n",
        "# Bronx'un ise, şehrin biraz dışında kalan bir bölge olduğunu söylemek doğru olur.\n",
        "# Manhattana olan yakınlığı, brooklyn ve queense neredeyse eşit ve uzak olan mesafesinden dolayı, Bronx'un  manhattan' ın sağ altında kalan bir bölge olduğunu düşünebiliriz.\n",
        "\n",
        "# Brooklyn ise, manhattana olan yakınlığı, queense olan ortalama uzaklığı ve bronx' a çok uzak olmasından dolayı, manhattanın sol üstünde olduğunu düşünmek doğru olabilir.\n",
        "\n",
        "# Yani ilçelerin konumunu özetlemek gerekirse, bu şehirleri bir düzlem üzerinde düşünürsek, \n",
        "# Manhattanın ortada, queensin manhattanın sol altında, bronx un ise manhattanın sağ altında, brooklyn ise manhattanın sol üstünde kalırdı."
      ],
      "metadata": {
        "colab": {
          "base_uri": "https://localhost:8080/",
          "height": 297
        },
        "id": "JRZe2yyXVo1w",
        "outputId": "6c898560-7251-4eec-eb02-494654abea56"
      },
      "execution_count": null,
      "outputs": [
        {
          "output_type": "execute_result",
          "data": {
            "text/plain": [
              "<matplotlib.axes._subplots.AxesSubplot at 0x7f038700cd10>"
            ]
          },
          "metadata": {},
          "execution_count": 4
        },
        {
          "output_type": "display_data",
          "data": {
            "text/plain": [
              "<Figure size 432x288 with 1 Axes>"
            ],
            "image/png": "[encoded data removed]"
          },
          "metadata": {
            "needs_background": "light"
          }
        }
      ]
    },
    {
      "cell_type": "code",
      "source": [
        "https://www.youtube.com/watch?v=_vHttpJe5go"
      ],
      "metadata": {
        "id": "5oqJuYzvN__G"
      },
      "execution_count": null,
      "outputs": []
    }
  ]
}